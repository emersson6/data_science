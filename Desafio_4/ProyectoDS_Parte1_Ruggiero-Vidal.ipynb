{
 "cells": [
  {
   "cell_type": "markdown",
   "id": "687d3ecc-d135-4407-9cd1-7faaebbb0949",
   "metadata": {},
   "source": [
    "# ABSTRACTO"
   ]
  },
  {
   "cell_type": "code",
   "execution_count": null,
   "id": "e4622130-bfc7-4617-a777-0053210170d3",
   "metadata": {},
   "outputs": [],
   "source": []
  }
 ],
 "metadata": {
  "kernelspec": {
   "display_name": "Python 3 (ipykernel)",
   "language": "python",
   "name": "python3"
  },
  "language_info": {
   "codemirror_mode": {
    "name": "ipython",
    "version": 3
   },
   "file_extension": ".py",
   "mimetype": "text/x-python",
   "name": "python",
   "nbconvert_exporter": "python",
   "pygments_lexer": "ipython3",
   "version": "3.9.12"
  }
 },
 "nbformat": 4,
 "nbformat_minor": 5
}
